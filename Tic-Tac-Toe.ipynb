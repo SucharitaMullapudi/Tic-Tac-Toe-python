{
 "cells": [
  {
   "cell_type": "markdown",
   "metadata": {},
   "source": [
    "# Tic-Tac-Toe"
   ]
  },
  {
   "cell_type": "code",
   "execution_count": 1,
   "metadata": {},
   "outputs": [],
   "source": [
    "from IPython.display import clear_output\n",
    "clear_output()"
   ]
  },
  {
   "cell_type": "code",
   "execution_count": 2,
   "metadata": {},
   "outputs": [],
   "source": [
    "# board= []\n",
    "def numbers():\n",
    "    global num\n",
    "    num = ['1','2','3','4','5','6','7','8','9']\n",
    "    global board\n",
    "    board =[]\n",
    "    for i in num:       \n",
    "        board.append(i)\n",
    "    return board"
   ]
  },
  {
   "cell_type": "code",
   "execution_count": 3,
   "metadata": {},
   "outputs": [],
   "source": [
    "def print_board():\n",
    "    print(' | '.join(board[0:3]))\n",
    "    print('---------')\n",
    "    print(' | '.join(board[3:6]))\n",
    "    print('---------')\n",
    "    print(' | '.join(board[6:9]))\n",
    "   "
   ]
  },
  {
   "cell_type": "code",
   "execution_count": 4,
   "metadata": {},
   "outputs": [],
   "source": [
    "def player_choice():\n",
    "    choice = False\n",
    "    check = ['X','O']\n",
    "    global input_1\n",
    "    global input_2\n",
    "    while True:\n",
    "        input_1 = input('Player1 please select either X or O: ')\n",
    "        if input_1 not in check:\n",
    "                clear_output()\n",
    "                print(\"please enter valid input\")\n",
    "                continue\n",
    "        else:\n",
    "            break\n",
    "    if input_1== 'X':\n",
    "        input_2 = 'O'\n",
    "        \n",
    "    else :\n",
    "        input_2 = 'X'\n",
    "    print('Player1 selected:',input_1)\n",
    "    print('Player2 selected:',input_2)"
   ]
  },
  {
   "cell_type": "code",
   "execution_count": 5,
   "metadata": {},
   "outputs": [],
   "source": [
    "def index_position_0():\n",
    "    check1 = ['1','2','3','4','5','6','7','8','9']\n",
    "    global turn\n",
    "    while True:\n",
    "        global player1_input\n",
    "        player1_input = input('Player1,enter your index position: ')\n",
    "        if player1_input not in check1:\n",
    "            print('Please enter a valid number between(1-9): ')\n",
    "            continue\n",
    "        else:\n",
    "            break\n",
    "    player1_input = int(player1_input)\n",
    "#     print('Player1 selected',player1_input)\n",
    "#     print(board[player1_input-1])\n",
    "    board[player1_input-1] = input_1\n",
    "#     print(board)\n"
   ]
  },
  {
   "cell_type": "code",
   "execution_count": 6,
   "metadata": {},
   "outputs": [],
   "source": [
    "def index_position_1():\n",
    "    check1 = ['1','2','3','4','5','6','7','8','9']\n",
    "    global player1_input\n",
    "    while True:\n",
    "        player1_input = input('Player1,enter your index position: ')\n",
    "        if (player1_input not in check1) or (int(player1_input) == player2_input) :\n",
    "            print('Please enter a valid number between(1-9) and number that is not entered by player2: ')\n",
    "            continue\n",
    "        else:\n",
    "            break\n",
    "    player1_input = int(player1_input)\n",
    "#     print('Player1 selected',player1_input)\n",
    "    board[player1_input-1] = input_1\n",
    "#     print(board)\n",
    "#     turn = 'player2'"
   ]
  },
  {
   "cell_type": "code",
   "execution_count": 7,
   "metadata": {},
   "outputs": [],
   "source": [
    "def index_position_2():\n",
    "    check1 = ['1','2','3','4','5','6','7','8','9']\n",
    "    global player2_input\n",
    "    while True:\n",
    "        player2_input = input('Player2,enter your index position: ')\n",
    "\n",
    "        if (player2_input not in check1) or (int(player2_input) == player1_input) :\n",
    "            print('Please enter a valid number between(1-9) and number that is not entered by player2: ')\n",
    "            continue\n",
    "        else:\n",
    "            break\n",
    "    player2_input = int(player2_input)\n",
    "#     print('Player2 selected',player2_input)\n",
    "    board[player2_input-1] = input_2\n",
    "#     print(board)\n",
    "#     turn = 'player1'\n",
    "    "
   ]
  },
  {
   "cell_type": "code",
   "execution_count": 8,
   "metadata": {},
   "outputs": [],
   "source": [
    "def win_logic():\n",
    "    if input_1 == 'X':\n",
    "        if(board[0]=='X' and board[1]=='X' and board[2]=='X') or  \\\n",
    "    (board[3]=='X' and board[4]=='X' and board[5]=='X') or \\\n",
    "    (board[6]=='X' and board[7]=='X' and board[8]=='X') or \\\n",
    "    (board[0]=='X' and board[3]=='X' and board[6]=='X') or \\\n",
    "    (board[1]=='X' and board[4]=='X' and board[7]=='X') or \\\n",
    "    (board[2]=='X' and board[5]=='X' and board[8]=='X') or \\\n",
    "    (board[0]=='X' and board[4]=='X' and board[8]=='X') or \\\n",
    "    (board[2]=='X' and board[4]=='X' and board[6]=='X') :  \n",
    "            print('Player 1 won the match')\n",
    "            return False\n",
    "    elif input_1 == 'O':\n",
    "        if (board[0]=='O' and board[1]=='O' and board[2]=='O') or \\\n",
    "         (board[3]=='O' and board[4]=='O' and board[5]=='O') or \\\n",
    "         (board[6]=='O' and board[7]=='O' and board[8]=='O') or \\\n",
    "         (board[0]=='O' and board[3]=='O' and board[6]=='O') or \\\n",
    "         (board[1]=='O' and board[4]=='O' and board[7]=='O') or \\\n",
    "         (board[2]=='O' and board[5]=='O' and board[8]=='O') or \\\n",
    "         (board[0]=='O' and board[4]=='O' and board[8]=='O') or \\\n",
    "         (board[2]=='O' and board[4]=='O' and board[6]=='O'): \n",
    "            print('Player 1 won the match')\n",
    "            return False    \n",
    "    else:\n",
    "        print('Match Draw')\n",
    "        return False"
   ]
  },
  {
   "cell_type": "code",
   "execution_count": 9,
   "metadata": {},
   "outputs": [],
   "source": [
    "def win_logic1():\n",
    "    if input_2 == 'X':\n",
    "        if(board[0]=='X' and board[1]=='X' and board[2]=='X') or  \\\n",
    "    (board[3]=='X' and board[4]=='X' and board[5]=='X') or \\\n",
    "    (board[6]=='X' and board[7]=='X' and board[8]=='X') or \\\n",
    "    (board[0]=='X' and board[3]=='X' and board[6]=='X') or \\\n",
    "    (board[1]=='X' and board[4]=='X' and board[7]=='X') or \\\n",
    "    (board[2]=='X' and board[5]=='X' and board[8]=='X') or \\\n",
    "    (board[0]=='X' and board[4]=='X' and board[8]=='X') or \\\n",
    "    (board[2]=='X' and board[4]=='X' and board[6]=='X') : \n",
    "            print('Player 2 won the match')\n",
    "            return False\n",
    "    elif input_2 == 'O':\n",
    "        if (board[0]=='O' and board[1]=='O' and board[2]=='O') or \\\n",
    "         (board[3]=='O' and board[4]=='O' and board[5]=='O') or \\\n",
    "         (board[6]=='O' and board[7]=='O' and board[8]=='O') or \\\n",
    "         (board[0]=='O' and board[3]=='O' and board[6]=='O') or \\\n",
    "         (board[1]=='O' and board[4]=='O' and board[7]=='O') or \\\n",
    "         (board[2]=='O' and board[5]=='O' and board[8]=='O') or \\\n",
    "         (board[0]=='O' and board[4]=='O' and board[8]=='O') or \\\n",
    "         (board[2]=='O' and board[4]=='O' and board[6]=='O'): \n",
    "            print('Player 2 won the match')\n",
    "            return False  \n",
    "    else:\n",
    "        print('Match Draw')\n",
    "        return False\n",
    "    "
   ]
  },
  {
   "cell_type": "code",
   "execution_count": 10,
   "metadata": {},
   "outputs": [],
   "source": [
    "def replay():\n",
    "    while True:\n",
    "        option = ['Y','N']\n",
    "        global user_choice\n",
    "        user_choice = input('Want to play another game?(Y/N) ')\n",
    "        if user_choice  not in option:\n",
    "            print('Please enter either Y or N')\n",
    "            continue\n",
    "        else:\n",
    "            break\n",
    "    if user_choice == 'Y':\n",
    "        return True\n",
    "    else:\n",
    "        return False\n",
    "   "
   ]
  },
  {
   "cell_type": "code",
   "execution_count": 11,
   "metadata": {},
   "outputs": [],
   "source": [
    "def draw():\n",
    "    print_board()\n",
    "    count_X = 0\n",
    "    count_O = 0\n",
    "    count_d = 0\n",
    "    for i in board:\n",
    "        if i == 'X':\n",
    "            count_X +=1\n",
    "        elif i == 'O':\n",
    "            count_O +=1\n",
    "        else:\n",
    "            count_d+=1\n",
    "#     print(count_X)\n",
    "#     print(count_O)\n",
    "#     print(count_d)\n",
    "    if count_X+count_O == 9:\n",
    "        print('Match draw')\n",
    "        return True\n",
    "    else:\n",
    "#         print('game on')\n",
    "        return False"
   ]
  },
  {
   "cell_type": "code",
   "execution_count": 12,
   "metadata": {},
   "outputs": [],
   "source": [
    "def game():\n",
    "    \n",
    "    \n",
    "    game_in = True\n",
    "    while game_in:\n",
    "        numbers()       \n",
    "        player_choice()\n",
    "        print_board()\n",
    "        index_position_0()\n",
    "        print_board()\n",
    "        turn = 'player2'\n",
    "        game_on = True\n",
    "        while game_on:\n",
    "            if turn == 'player2':\n",
    "                index_position_2()\n",
    "#                 win_logic1()\n",
    "                if win_logic1() == False :\n",
    "                    game_on = False\n",
    "                elif draw() == True:\n",
    "                    game_on = False\n",
    "                else:\n",
    "                    turn = 'player1'\n",
    "            else:\n",
    "                index_position_1()\n",
    "#                 win_logic()\n",
    "                if win_logic() == False:\n",
    "                    game_on = False\n",
    "                elif draw() == True:\n",
    "                    game_on = False\n",
    "                else:\n",
    "                    turn = 'player2'\n",
    "        game_in = replay()\n",
    "        "
   ]
  },
  {
   "cell_type": "code",
   "execution_count": 13,
   "metadata": {
    "scrolled": false
   },
   "outputs": [
    {
     "name": "stdout",
     "output_type": "stream",
     "text": [
      "Player1 please select either X or O: X\n",
      "Player1 selected: X\n",
      "Player2 selected: O\n",
      "1 | 2 | 3\n",
      "---------\n",
      "4 | 5 | 6\n",
      "---------\n",
      "7 | 8 | 9\n",
      "Player1,enter your index position: 1\n",
      "X | 2 | 3\n",
      "---------\n",
      "4 | 5 | 6\n",
      "---------\n",
      "7 | 8 | 9\n",
      "Player2,enter your index position: 2\n",
      "X | O | 3\n",
      "---------\n",
      "4 | 5 | 6\n",
      "---------\n",
      "7 | 8 | 9\n",
      "Player1,enter your index position: 5\n",
      "X | O | 3\n",
      "---------\n",
      "4 | X | 6\n",
      "---------\n",
      "7 | 8 | 9\n",
      "Player2,enter your index position: 3\n",
      "X | O | O\n",
      "---------\n",
      "4 | X | 6\n",
      "---------\n",
      "7 | 8 | 9\n",
      "Player1,enter your index position: 9\n",
      "Player 1 won the match\n",
      "Want to play another game?(Y/N) N\n"
     ]
    }
   ],
   "source": [
    "game()"
   ]
  },
  {
   "cell_type": "code",
   "execution_count": null,
   "metadata": {},
   "outputs": [],
   "source": []
  }
 ],
 "metadata": {
  "kernelspec": {
   "display_name": "Python 3",
   "language": "python",
   "name": "python3"
  },
  "language_info": {
   "codemirror_mode": {
    "name": "ipython",
    "version": 3
   },
   "file_extension": ".py",
   "mimetype": "text/x-python",
   "name": "python",
   "nbconvert_exporter": "python",
   "pygments_lexer": "ipython3",
   "version": "3.7.6"
  }
 },
 "nbformat": 4,
 "nbformat_minor": 4
}
